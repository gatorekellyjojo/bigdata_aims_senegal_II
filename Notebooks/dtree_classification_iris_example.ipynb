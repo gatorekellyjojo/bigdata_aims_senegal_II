{
 "metadata": {
  "name": "",
  "signature": "sha256:c56fc977c515c52d9270df7be077480d05c62b5904b84badaa3991ed7db2672f"
 },
 "nbformat": 3,
 "nbformat_minor": 0,
 "worksheets": [
  {
   "cells": [
    {
     "cell_type": "markdown",
     "metadata": {},
     "source": [
      "<h1>Decision Tree</h1>"
     ]
    },
    {
     "cell_type": "markdown",
     "metadata": {},
     "source": [
      "<p>In this tutorial we will see how to use a decision tree for classificatino using the iris dataset.<br>\n",
      "Visualization of both the result and the decision tree itself are also provided.</p>\n",
      "<p>As usual we start by importing all necessary packages ...</p>"
     ]
    },
    {
     "cell_type": "code",
     "collapsed": false,
     "input": [
      "import numpy as np\n",
      "import matplotlib.pyplot as plt\n",
      "%matplotlib inline"
     ],
     "language": "python",
     "metadata": {},
     "outputs": [],
     "prompt_number": 1
    },
    {
     "cell_type": "markdown",
     "metadata": {},
     "source": [
      "<p>... and the iris dataset.</p>"
     ]
    },
    {
     "cell_type": "code",
     "collapsed": false,
     "input": [
      "from sklearn.datasets import load_iris\n",
      "iris = load_iris()\n",
      "X = iris.data[:,0:3:2]\n",
      "y = iris.target"
     ],
     "language": "python",
     "metadata": {},
     "outputs": [],
     "prompt_number": 2
    },
    {
     "cell_type": "markdown",
     "metadata": {},
     "source": [
      "<p>As for the example for the k-Nearest Neighbor method we only keep two features of the whole dataset.</p>\n",
      "<p>Then we can apply a decision tree classification, constraining the maximum depth of the tree to be 4 :</p>"
     ]
    },
    {
     "cell_type": "code",
     "collapsed": false,
     "input": [
      "from sklearn import tree\n",
      "dtr = tree.DecisionTreeClassifier(max_depth=4)\n",
      "dtr.fit(X,y)"
     ],
     "language": "python",
     "metadata": {},
     "outputs": [
      {
       "metadata": {},
       "output_type": "pyout",
       "prompt_number": 3,
       "text": [
        "DecisionTreeClassifier(class_weight=None, criterion='gini', max_depth=4,\n",
        "            max_features=None, max_leaf_nodes=None, min_samples_leaf=1,\n",
        "            min_samples_split=2, min_weight_fraction_leaf=0.0,\n",
        "            presort=False, random_state=None, splitter='best')"
       ]
      }
     ],
     "prompt_number": 3
    },
    {
     "cell_type": "markdown",
     "metadata": {},
     "source": [
      "<p>In order to visualize the classification result we are going to ask the predictino for a collectino of points mapping the features space.</p>"
     ]
    },
    {
     "cell_type": "code",
     "collapsed": false,
     "input": [
      "xx,yy = np.meshgrid(np.linspace(0.0,10.0,201),np.linspace(0.0,10.0,201))\n",
      "pred = dtr.predict(np.c_[xx.ravel(),yy.ravel()])\n",
      "Z = pred.reshape(np.shape(xx))"
     ],
     "language": "python",
     "metadata": {},
     "outputs": [],
     "prompt_number": 4
    },
    {
     "cell_type": "code",
     "collapsed": false,
     "input": [
      "plt.figure(figsize=(7,7))\n",
      "plt.contourf(xx,yy,Z,alpha=0.4)\n",
      "plt.scatter(X.T[0],X.T[1],c=y)\n",
      "plt.axis('scaled')\n",
      "plt.xlabel('Sepal Length')\n",
      "plt.ylabel('Petal Length')\n",
      "plt.xlim(2.0,10.0)\n",
      "plt.ylim(0.0,8.0)"
     ],
     "language": "python",
     "metadata": {},
     "outputs": [
      {
       "metadata": {},
       "output_type": "pyout",
       "prompt_number": 5,
       "text": [
        "(0.0, 8.0)"
       ]
      },
      {
       "metadata": {},
       "output_type": "display_data",
       "png": "[encoded data removed]",
       "text": [
        "<matplotlib.figure.Figure at 0x7f8d7e450ad0>"
       ]
      }
     ],
     "prompt_number": 5
    },
    {
     "cell_type": "markdown",
     "metadata": {},
     "source": [
      "<p>Let's now export the decision tree to a pdf file</p>"
     ]
    },
    {
     "cell_type": "code",
     "collapsed": false,
     "input": [
      "import pydot\n",
      "from sklearn.externals.six import StringIO\n",
      "\n",
      "dot_data = StringIO()\n",
      "f = tree.export_graphviz(dtr,out_file=dot_data,\n",
      "                         feature_names=iris.feature_names,\n",
      "                         class_names=iris.target_names,\n",
      "                         filled=True,rounded=True)\n",
      "graph = pydot.graph_from_dot_data(dot_data.getvalue())\n",
      "graph.write_pdf('test/iris2.pdf')"
     ],
     "language": "python",
     "metadata": {},
     "outputs": [
      {
       "metadata": {},
       "output_type": "pyout",
       "prompt_number": 7,
       "text": [
        "True"
       ]
      }
     ],
     "prompt_number": 7
    },
    {
     "cell_type": "code",
     "collapsed": false,
     "input": [],
     "language": "python",
     "metadata": {},
     "outputs": []
    }
   ],
   "metadata": {}
  }
 ]
}